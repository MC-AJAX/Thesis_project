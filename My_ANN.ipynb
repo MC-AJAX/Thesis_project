{
 "cells": [
  {
   "cell_type": "code",
   "execution_count": 1,
   "metadata": {},
   "outputs": [],
   "source": [
    "#Import necessary libraries\n",
    "import numpy as np\n",
    "import matplotlib.pyplot as plt\n",
    "import pandas as pd\n",
    "import tensorflow as tf"
   ]
  },
  {
   "cell_type": "code",
   "execution_count": 2,
   "metadata": {},
   "outputs": [],
   "source": [
    "#Import the dataset as an array and split in into input data and y\n",
    "dataset = pd.read_csv('Churn_Modelling.csv')\n",
    "x = dataset.iloc[:, 3:-1].values\n",
    "y = dataset.iloc[:, -1].values"
   ]
  },
  {
   "cell_type": "code",
   "execution_count": 3,
   "metadata": {},
   "outputs": [],
   "source": [
    "#Change gender from strings to binary values\n",
    "from sklearn.preprocessing import LabelEncoder\n",
    "le = LabelEncoder()\n",
    "x[:, 2] = le.fit_transform(x[:, 2])"
   ]
  },
  {
   "cell_type": "code",
   "execution_count": 4,
   "metadata": {},
   "outputs": [],
   "source": [
    "#Formats the rest of the data in a way that is numeric\n",
    "from sklearn.compose import ColumnTransformer\n",
    "from sklearn.preprocessing import OneHotEncoder\n",
    "ct = ColumnTransformer(transformers=[('encoder', OneHotEncoder(), [1])], remainder='passthrough')\n",
    "x = np.array(ct.fit_transform(x))"
   ]
  },
  {
   "cell_type": "code",
   "execution_count": 5,
   "metadata": {},
   "outputs": [],
   "source": [
    "#Splits the dataset into training and testing groups\n",
    "from sklearn.model_selection import train_test_split\n",
    "x_train, x_test, y_train, y_test = train_test_split(x, y, test_size = 0.2, random_state = 0)"
   ]
  },
  {
   "cell_type": "code",
   "execution_count": 6,
   "metadata": {},
   "outputs": [],
   "source": [
    "#scales the datasets?\n",
    "from sklearn.preprocessing import StandardScaler\n",
    "sc = StandardScaler()\n",
    "x_train = sc.fit_transform(x_train)\n",
    "x_test = sc.transform(x_test)"
   ]
  },
  {
   "cell_type": "code",
   "execution_count": null,
   "metadata": {},
   "outputs": [],
   "source": []
  },
  {
   "cell_type": "code",
   "execution_count": 7,
   "metadata": {},
   "outputs": [],
   "source": [
    "#Create a Sequential ANN object\n",
    "ann = tf.keras.models.Sequential()"
   ]
  },
  {
   "cell_type": "code",
   "execution_count": 8,
   "metadata": {},
   "outputs": [],
   "source": [
    "#Creates a dense layer and the input layer\n",
    "ann.add(tf.keras.layers.Dense(units=6, activation=\"relu\"))"
   ]
  },
  {
   "cell_type": "code",
   "execution_count": 9,
   "metadata": {},
   "outputs": [],
   "source": [
    "#Creates the sedond dense layer\n",
    "ann.add(tf.keras.layers.Dense(units=6, activation=\"relu\"))"
   ]
  },
  {
   "cell_type": "code",
   "execution_count": 10,
   "metadata": {},
   "outputs": [],
   "source": [
    "#Creates the output layer\n",
    "ann.add(tf.keras.layers.Dense(units=1, activation=\"sigmoid\"))"
   ]
  },
  {
   "cell_type": "code",
   "execution_count": null,
   "metadata": {},
   "outputs": [],
   "source": []
  },
  {
   "cell_type": "code",
   "execution_count": 11,
   "metadata": {},
   "outputs": [],
   "source": [
    "#Compile the ANN\n",
    "ann.compile(optimizer = 'adam', loss = 'binary_crossentropy', metrics = ['accuracy'])"
   ]
  },
  {
   "cell_type": "code",
   "execution_count": 13,
   "metadata": {},
   "outputs": [
    {
     "name": "stdout",
     "output_type": "stream",
     "text": [
      "Epoch 1/100\n",
      "250/250 [==============================] - 0s 1ms/step - loss: 0.3317 - accuracy: 0.8634\n",
      "Epoch 2/100\n",
      "250/250 [==============================] - 0s 1ms/step - loss: 0.3314 - accuracy: 0.8630\n",
      "Epoch 3/100\n",
      "250/250 [==============================] - 0s 2ms/step - loss: 0.3319 - accuracy: 0.8630\n",
      "Epoch 4/100\n",
      "250/250 [==============================] - 0s 1ms/step - loss: 0.3319 - accuracy: 0.8634\n",
      "Epoch 5/100\n",
      "250/250 [==============================] - 0s 1ms/step - loss: 0.3318 - accuracy: 0.8646\n",
      "Epoch 6/100\n",
      "250/250 [==============================] - 0s 1ms/step - loss: 0.3319 - accuracy: 0.8616\n",
      "Epoch 7/100\n",
      "250/250 [==============================] - 0s 965us/step - loss: 0.3321 - accuracy: 0.8614\n",
      "Epoch 8/100\n",
      "250/250 [==============================] - 0s 1ms/step - loss: 0.3317 - accuracy: 0.8640\n",
      "Epoch 9/100\n",
      "250/250 [==============================] - 0s 941us/step - loss: 0.3313 - accuracy: 0.8656\n",
      "Epoch 10/100\n",
      "250/250 [==============================] - 0s 1ms/step - loss: 0.3315 - accuracy: 0.8624\n",
      "Epoch 11/100\n",
      "250/250 [==============================] - 0s 909us/step - loss: 0.3317 - accuracy: 0.8636\n",
      "Epoch 12/100\n",
      "250/250 [==============================] - 0s 889us/step - loss: 0.3307 - accuracy: 0.8637\n",
      "Epoch 13/100\n",
      "250/250 [==============================] - 0s 1ms/step - loss: 0.3316 - accuracy: 0.8640\n",
      "Epoch 14/100\n",
      "250/250 [==============================] - 0s 953us/step - loss: 0.3312 - accuracy: 0.8637\n",
      "Epoch 15/100\n",
      "250/250 [==============================] - 0s 1ms/step - loss: 0.3316 - accuracy: 0.8620\n",
      "Epoch 16/100\n",
      "250/250 [==============================] - 0s 2ms/step - loss: 0.3314 - accuracy: 0.8634\n",
      "Epoch 17/100\n",
      "250/250 [==============================] - 0s 2ms/step - loss: 0.3313 - accuracy: 0.8645\n",
      "Epoch 18/100\n",
      "250/250 [==============================] - 0s 1ms/step - loss: 0.3312 - accuracy: 0.8654\n",
      "Epoch 19/100\n",
      "250/250 [==============================] - 0s 2ms/step - loss: 0.3312 - accuracy: 0.8636\n",
      "Epoch 20/100\n",
      "250/250 [==============================] - 0s 2ms/step - loss: 0.3312 - accuracy: 0.8643\n",
      "Epoch 21/100\n",
      "250/250 [==============================] - 0s 2ms/step - loss: 0.3308 - accuracy: 0.8635\n",
      "Epoch 22/100\n",
      "250/250 [==============================] - 0s 2ms/step - loss: 0.3316 - accuracy: 0.8646\n",
      "Epoch 23/100\n",
      "250/250 [==============================] - 0s 1ms/step - loss: 0.3313 - accuracy: 0.8640\n",
      "Epoch 24/100\n",
      "250/250 [==============================] - 0s 2ms/step - loss: 0.3308 - accuracy: 0.8641\n",
      "Epoch 25/100\n",
      "250/250 [==============================] - 0s 1ms/step - loss: 0.3310 - accuracy: 0.8636\n",
      "Epoch 26/100\n",
      "250/250 [==============================] - 0s 865us/step - loss: 0.3311 - accuracy: 0.8651\n",
      "Epoch 27/100\n",
      "250/250 [==============================] - 0s 869us/step - loss: 0.3307 - accuracy: 0.8627\n",
      "Epoch 28/100\n",
      "250/250 [==============================] - 0s 881us/step - loss: 0.3308 - accuracy: 0.8629\n",
      "Epoch 29/100\n",
      "250/250 [==============================] - 0s 865us/step - loss: 0.3310 - accuracy: 0.8616\n",
      "Epoch 30/100\n",
      "250/250 [==============================] - 0s 869us/step - loss: 0.3306 - accuracy: 0.8669\n",
      "Epoch 31/100\n",
      "250/250 [==============================] - 0s 861us/step - loss: 0.3307 - accuracy: 0.8648\n",
      "Epoch 32/100\n",
      "250/250 [==============================] - 0s 857us/step - loss: 0.3310 - accuracy: 0.8659\n",
      "Epoch 33/100\n",
      "250/250 [==============================] - 0s 865us/step - loss: 0.3305 - accuracy: 0.8646\n",
      "Epoch 34/100\n",
      "250/250 [==============================] - 0s 861us/step - loss: 0.3303 - accuracy: 0.8634\n",
      "Epoch 35/100\n",
      "250/250 [==============================] - 0s 889us/step - loss: 0.3311 - accuracy: 0.8635\n",
      "Epoch 36/100\n",
      "250/250 [==============================] - 0s 877us/step - loss: 0.3305 - accuracy: 0.8648\n",
      "Epoch 37/100\n",
      "250/250 [==============================] - 0s 1ms/step - loss: 0.3311 - accuracy: 0.8646\n",
      "Epoch 38/100\n",
      "250/250 [==============================] - 0s 1ms/step - loss: 0.3303 - accuracy: 0.8661\n",
      "Epoch 39/100\n",
      "250/250 [==============================] - 0s 1ms/step - loss: 0.3311 - accuracy: 0.8644\n",
      "Epoch 40/100\n",
      "250/250 [==============================] - 0s 1ms/step - loss: 0.3308 - accuracy: 0.8630\n",
      "Epoch 41/100\n",
      "250/250 [==============================] - 0s 1ms/step - loss: 0.3307 - accuracy: 0.8636\n",
      "Epoch 42/100\n",
      "250/250 [==============================] - 0s 1ms/step - loss: 0.3307 - accuracy: 0.8649\n",
      "Epoch 43/100\n",
      "250/250 [==============================] - 0s 1ms/step - loss: 0.3308 - accuracy: 0.8639\n",
      "Epoch 44/100\n",
      "250/250 [==============================] - 0s 889us/step - loss: 0.3302 - accuracy: 0.8646\n",
      "Epoch 45/100\n",
      "250/250 [==============================] - 0s 885us/step - loss: 0.3303 - accuracy: 0.8635\n",
      "Epoch 46/100\n",
      "250/250 [==============================] - 0s 857us/step - loss: 0.3307 - accuracy: 0.8658\n",
      "Epoch 47/100\n",
      "250/250 [==============================] - 0s 886us/step - loss: 0.3307 - accuracy: 0.8636\n",
      "Epoch 48/100\n",
      "250/250 [==============================] - 0s 913us/step - loss: 0.3305 - accuracy: 0.8626\n",
      "Epoch 49/100\n",
      "250/250 [==============================] - 0s 921us/step - loss: 0.3305 - accuracy: 0.8655\n",
      "Epoch 50/100\n",
      "250/250 [==============================] - 0s 925us/step - loss: 0.3306 - accuracy: 0.8649\n",
      "Epoch 51/100\n",
      "250/250 [==============================] - 0s 905us/step - loss: 0.3309 - accuracy: 0.8662\n",
      "Epoch 52/100\n",
      "250/250 [==============================] - 0s 921us/step - loss: 0.3306 - accuracy: 0.8648\n",
      "Epoch 53/100\n",
      "250/250 [==============================] - 0s 925us/step - loss: 0.3308 - accuracy: 0.8652\n",
      "Epoch 54/100\n",
      "250/250 [==============================] - 0s 869us/step - loss: 0.3307 - accuracy: 0.8659\n",
      "Epoch 55/100\n",
      "250/250 [==============================] - 0s 857us/step - loss: 0.3305 - accuracy: 0.8649\n",
      "Epoch 56/100\n",
      "250/250 [==============================] - 0s 885us/step - loss: 0.3305 - accuracy: 0.8635\n",
      "Epoch 57/100\n",
      "250/250 [==============================] - 0s 1ms/step - loss: 0.3309 - accuracy: 0.8637\n",
      "Epoch 58/100\n",
      "250/250 [==============================] - 0s 1ms/step - loss: 0.3307 - accuracy: 0.8637\n",
      "Epoch 59/100\n",
      "250/250 [==============================] - 0s 989us/step - loss: 0.3307 - accuracy: 0.8641\n",
      "Epoch 60/100\n",
      "250/250 [==============================] - 0s 877us/step - loss: 0.3304 - accuracy: 0.8644\n",
      "Epoch 61/100\n",
      "250/250 [==============================] - 0s 861us/step - loss: 0.3303 - accuracy: 0.8644\n",
      "Epoch 62/100\n",
      "250/250 [==============================] - 0s 881us/step - loss: 0.3305 - accuracy: 0.8656\n",
      "Epoch 63/100\n",
      "250/250 [==============================] - 0s 849us/step - loss: 0.3305 - accuracy: 0.8651\n",
      "Epoch 64/100\n",
      "250/250 [==============================] - 0s 905us/step - loss: 0.3308 - accuracy: 0.8645\n",
      "Epoch 65/100\n",
      "250/250 [==============================] - 0s 933us/step - loss: 0.3309 - accuracy: 0.8637\n",
      "Epoch 66/100\n",
      "250/250 [==============================] - 0s 1ms/step - loss: 0.3303 - accuracy: 0.8645\n",
      "Epoch 67/100\n",
      "250/250 [==============================] - 0s 969us/step - loss: 0.3304 - accuracy: 0.8649\n",
      "Epoch 68/100\n",
      "250/250 [==============================] - 0s 973us/step - loss: 0.3306 - accuracy: 0.8636\n",
      "Epoch 69/100\n",
      "250/250 [==============================] - 0s 1ms/step - loss: 0.3300 - accuracy: 0.8660\n",
      "Epoch 70/100\n",
      "250/250 [==============================] - 0s 1ms/step - loss: 0.3304 - accuracy: 0.8646\n",
      "Epoch 71/100\n",
      "250/250 [==============================] - 0s 961us/step - loss: 0.3302 - accuracy: 0.8637\n",
      "Epoch 72/100\n",
      "250/250 [==============================] - 0s 961us/step - loss: 0.3306 - accuracy: 0.8661\n",
      "Epoch 73/100\n",
      "250/250 [==============================] - 0s 933us/step - loss: 0.3303 - accuracy: 0.8644\n",
      "Epoch 74/100\n",
      "250/250 [==============================] - 0s 953us/step - loss: 0.3305 - accuracy: 0.8654\n",
      "Epoch 75/100\n",
      "250/250 [==============================] - 0s 961us/step - loss: 0.3303 - accuracy: 0.8654\n",
      "Epoch 76/100\n",
      "250/250 [==============================] - 0s 1ms/step - loss: 0.3301 - accuracy: 0.8650\n",
      "Epoch 77/100\n",
      "250/250 [==============================] - 0s 989us/step - loss: 0.3301 - accuracy: 0.8655\n",
      "Epoch 78/100\n",
      "250/250 [==============================] - 0s 901us/step - loss: 0.3298 - accuracy: 0.8660\n",
      "Epoch 79/100\n",
      "250/250 [==============================] - 0s 1ms/step - loss: 0.3303 - accuracy: 0.8648\n",
      "Epoch 80/100\n"
     ]
    },
    {
     "name": "stdout",
     "output_type": "stream",
     "text": [
      "250/250 [==============================] - 0s 2ms/step - loss: 0.3300 - accuracy: 0.8635\n",
      "Epoch 81/100\n",
      "250/250 [==============================] - 0s 2ms/step - loss: 0.3301 - accuracy: 0.8652\n",
      "Epoch 82/100\n",
      "250/250 [==============================] - 0s 1ms/step - loss: 0.3301 - accuracy: 0.8651\n",
      "Epoch 83/100\n",
      "250/250 [==============================] - 0s 1ms/step - loss: 0.3298 - accuracy: 0.8650\n",
      "Epoch 84/100\n",
      "250/250 [==============================] - 0s 1ms/step - loss: 0.3305 - accuracy: 0.8641\n",
      "Epoch 85/100\n",
      "250/250 [==============================] - 0s 1ms/step - loss: 0.3304 - accuracy: 0.8652\n",
      "Epoch 86/100\n",
      "250/250 [==============================] - 0s 1ms/step - loss: 0.3307 - accuracy: 0.8652\n",
      "Epoch 87/100\n",
      "250/250 [==============================] - 0s 965us/step - loss: 0.3305 - accuracy: 0.8640\n",
      "Epoch 88/100\n",
      "250/250 [==============================] - 0s 993us/step - loss: 0.3301 - accuracy: 0.8648\n",
      "Epoch 89/100\n",
      "250/250 [==============================] - 0s 865us/step - loss: 0.3297 - accuracy: 0.8655\n",
      "Epoch 90/100\n",
      "250/250 [==============================] - 0s 869us/step - loss: 0.3302 - accuracy: 0.8635\n",
      "Epoch 91/100\n",
      "250/250 [==============================] - 0s 901us/step - loss: 0.3304 - accuracy: 0.8644\n",
      "Epoch 92/100\n",
      "250/250 [==============================] - 0s 857us/step - loss: 0.3303 - accuracy: 0.8636\n",
      "Epoch 93/100\n",
      "250/250 [==============================] - 0s 973us/step - loss: 0.3304 - accuracy: 0.8656\n",
      "Epoch 94/100\n",
      "250/250 [==============================] - 0s 1ms/step - loss: 0.3306 - accuracy: 0.8659\n",
      "Epoch 95/100\n",
      "250/250 [==============================] - 0s 929us/step - loss: 0.3303 - accuracy: 0.8636\n",
      "Epoch 96/100\n",
      "250/250 [==============================] - 0s 1ms/step - loss: 0.3301 - accuracy: 0.8650\n",
      "Epoch 97/100\n",
      "250/250 [==============================] - 0s 1ms/step - loss: 0.3300 - accuracy: 0.8644\n",
      "Epoch 98/100\n",
      "250/250 [==============================] - 0s 917us/step - loss: 0.3300 - accuracy: 0.8651\n",
      "Epoch 99/100\n",
      "250/250 [==============================] - 0s 1ms/step - loss: 0.3302 - accuracy: 0.8645\n",
      "Epoch 100/100\n",
      "250/250 [==============================] - 0s 1ms/step - loss: 0.3304 - accuracy: 0.8641\n"
     ]
    },
    {
     "data": {
      "text/plain": [
       "<keras.callbacks.History at 0x19ada925040>"
      ]
     },
     "execution_count": 13,
     "metadata": {},
     "output_type": "execute_result"
    }
   ],
   "source": [
    "#Train the ANN on the first set of data\n",
    "ann.fit(x_train, y_train, batch_size = 32, epochs = 100)"
   ]
  },
  {
   "cell_type": "code",
   "execution_count": null,
   "metadata": {},
   "outputs": [],
   "source": []
  },
  {
   "cell_type": "code",
   "execution_count": 15,
   "metadata": {},
   "outputs": [
    {
     "name": "stdout",
     "output_type": "stream",
     "text": [
      "[[0 0]\n",
      " [0 1]\n",
      " [0 0]\n",
      " ...\n",
      " [0 0]\n",
      " [0 0]\n",
      " [0 0]]\n"
     ]
    }
   ],
   "source": [
    "#Use the prediction dataset and formate it as a boolian value\n",
    "y_pred = ann.predict(x_test)\n",
    "y_pred = (y_pred > 0.5)\n",
    "print(np.concatenate((y_pred.reshape(len(y_pred),1), y_test.reshape(len(y_test),1)),1))"
   ]
  },
  {
   "cell_type": "code",
   "execution_count": 16,
   "metadata": {},
   "outputs": [
    {
     "name": "stdout",
     "output_type": "stream",
     "text": [
      "[[1516   79]\n",
      " [ 202  203]]\n"
     ]
    },
    {
     "data": {
      "text/plain": [
       "0.8595"
      ]
     },
     "execution_count": 16,
     "metadata": {},
     "output_type": "execute_result"
    }
   ],
   "source": [
    "#Format the data into a confusion matrix\n",
    "from sklearn.metrics import confusion_matrix, accuracy_score\n",
    "cm = confusion_matrix(y_test, y_pred)\n",
    "print(cm)\n",
    "accuracy_score(y_test, y_pred)"
   ]
  },
  {
   "cell_type": "code",
   "execution_count": null,
   "metadata": {},
   "outputs": [],
   "source": []
  }
 ],
 "metadata": {
  "kernelspec": {
   "display_name": "Python 3",
   "language": "python",
   "name": "python3"
  },
  "language_info": {
   "codemirror_mode": {
    "name": "ipython",
    "version": 3
   },
   "file_extension": ".py",
   "mimetype": "text/x-python",
   "name": "python",
   "nbconvert_exporter": "python",
   "pygments_lexer": "ipython3",
   "version": "3.8.5"
  }
 },
 "nbformat": 4,
 "nbformat_minor": 4
}
