{
 "cells": [
  {
   "cell_type": "code",
   "execution_count": 1,
   "metadata": {},
   "outputs": [],
   "source": [
    "import tensorflow as tf\n",
    "from keras.preprocessing.image import ImageDataGenerator\n",
    "from keras.preprocessing import image\n",
    "import numpy as np"
   ]
  },
  {
   "cell_type": "code",
   "execution_count": 2,
   "metadata": {},
   "outputs": [
    {
     "data": {
      "text/plain": [
       "'2.8.0'"
      ]
     },
     "execution_count": 2,
     "metadata": {},
     "output_type": "execute_result"
    }
   ],
   "source": [
    "tf.__version__"
   ]
  },
  {
   "cell_type": "code",
   "execution_count": 3,
   "metadata": {},
   "outputs": [],
   "source": [
    "#Research overfitting for computer vision\n",
    "#Apply transformations (Image augmentation) on images so it doesnt overlearn"
   ]
  },
  {
   "cell_type": "code",
   "execution_count": 4,
   "metadata": {},
   "outputs": [],
   "source": [
    "train_datagenerator = ImageDataGenerator(\n",
    "        rescale=1./255,\n",
    "        shear_range=0.2,\n",
    "        zoom_range=0.2,\n",
    "        horizontal_flip=True)"
   ]
  },
  {
   "cell_type": "code",
   "execution_count": 5,
   "metadata": {},
   "outputs": [
    {
     "name": "stdout",
     "output_type": "stream",
     "text": [
      "Found 8000 images belonging to 2 classes.\n"
     ]
    }
   ],
   "source": [
    "training_set = train_datagenerator.flow_from_directory(\n",
    "        'dataset/training_set',\n",
    "        target_size=(150, 150), #possibly 64 by 64\n",
    "        batch_size=32,\n",
    "        class_mode='binary') #Since there are only 2 outcomes"
   ]
  },
  {
   "cell_type": "code",
   "execution_count": 6,
   "metadata": {},
   "outputs": [
    {
     "name": "stdout",
     "output_type": "stream",
     "text": [
      "Found 2000 images belonging to 2 classes.\n"
     ]
    }
   ],
   "source": [
    "test_datagenerator = ImageDataGenerator(rescale=1./255)\n",
    "test_set = test_datagenerator.flow_from_directory(\n",
    "        'dataset/test_set',\n",
    "        target_size=(150, 150), #Has to be same target size as training set\n",
    "        batch_size=32, #Must be same batch size\n",
    "        class_mode='binary')\n"
   ]
  },
  {
   "cell_type": "code",
   "execution_count": 7,
   "metadata": {},
   "outputs": [],
   "source": [
    "#Creating CNN object\n",
    "cnn = tf.keras.models.Sequential()"
   ]
  },
  {
   "cell_type": "code",
   "execution_count": 8,
   "metadata": {},
   "outputs": [],
   "source": [
    "#initial conv layer\n",
    "cnn.add(tf.keras.layers.Conv2D(filters=3, kernel_size=3, activation='relu', input_shape=[150,150,3]))"
   ]
  },
  {
   "cell_type": "code",
   "execution_count": 9,
   "metadata": {},
   "outputs": [],
   "source": [
    "#Pooling layer\n",
    "cnn.add(tf.keras.layers.MaxPool2D(pool_size=2, strides=2))"
   ]
  },
  {
   "cell_type": "code",
   "execution_count": 10,
   "metadata": {},
   "outputs": [],
   "source": [
    "#second conv layer\n",
    "cnn.add(tf.keras.layers.Conv2D(filters=3, kernel_size=3, activation='relu'))\n",
    "cnn.add(tf.keras.layers.MaxPool2D(pool_size=2, strides=2))"
   ]
  },
  {
   "cell_type": "code",
   "execution_count": 11,
   "metadata": {},
   "outputs": [],
   "source": [
    "#Flatening layer\n",
    "cnn.add(tf.keras.layers.Flatten())"
   ]
  },
  {
   "cell_type": "code",
   "execution_count": 12,
   "metadata": {},
   "outputs": [],
   "source": [
    "#Fully connected layer\n",
    "cnn.add(tf.keras.layers.Dense(units=128, activation=\"relu\"))"
   ]
  },
  {
   "cell_type": "code",
   "execution_count": 13,
   "metadata": {},
   "outputs": [],
   "source": [
    "#output layer\n",
    "cnn.add(tf.keras.layers.Dense(units=1, activation=\"sigmoid\")) #Could make 2 units and use softmax"
   ]
  },
  {
   "cell_type": "code",
   "execution_count": 14,
   "metadata": {},
   "outputs": [],
   "source": [
    "#compile cnn\n",
    "cnn.compile(optimizer='adam', loss='binary_crossentropy', metrics =['accuracy'])"
   ]
  },
  {
   "cell_type": "code",
   "execution_count": 15,
   "metadata": {},
   "outputs": [
    {
     "name": "stdout",
     "output_type": "stream",
     "text": [
      "Epoch 1/25\n",
      "250/250 [==============================] - 124s 495ms/step - loss: 0.6551 - accuracy: 0.6096 - val_loss: 0.7050 - val_accuracy: 0.5970\n",
      "Epoch 2/25\n",
      "250/250 [==============================] - 127s 509ms/step - loss: 0.6170 - accuracy: 0.6586 - val_loss: 0.6230 - val_accuracy: 0.6625\n",
      "Epoch 3/25\n",
      "250/250 [==============================] - 117s 468ms/step - loss: 0.6094 - accuracy: 0.6620 - val_loss: 0.6272 - val_accuracy: 0.6575\n",
      "Epoch 4/25\n",
      "250/250 [==============================] - 124s 494ms/step - loss: 0.5974 - accuracy: 0.6761 - val_loss: 0.6230 - val_accuracy: 0.6555\n",
      "Epoch 5/25\n",
      "250/250 [==============================] - 141s 566ms/step - loss: 0.5944 - accuracy: 0.6741 - val_loss: 0.6550 - val_accuracy: 0.6255\n",
      "Epoch 6/25\n",
      "250/250 [==============================] - 136s 544ms/step - loss: 0.5869 - accuracy: 0.6892 - val_loss: 0.6209 - val_accuracy: 0.6705\n",
      "Epoch 7/25\n",
      "250/250 [==============================] - 155s 622ms/step - loss: 0.5761 - accuracy: 0.6924 - val_loss: 0.6023 - val_accuracy: 0.6790\n",
      "Epoch 8/25\n",
      "250/250 [==============================] - 150s 598ms/step - loss: 0.5657 - accuracy: 0.7064 - val_loss: 0.6090 - val_accuracy: 0.6825\n",
      "Epoch 9/25\n",
      "250/250 [==============================] - 133s 530ms/step - loss: 0.5633 - accuracy: 0.7056 - val_loss: 0.5921 - val_accuracy: 0.7000\n",
      "Epoch 10/25\n",
      "250/250 [==============================] - 123s 494ms/step - loss: 0.5457 - accuracy: 0.7153 - val_loss: 0.6108 - val_accuracy: 0.6810\n",
      "Epoch 11/25\n",
      "250/250 [==============================] - 127s 507ms/step - loss: 0.5446 - accuracy: 0.7210 - val_loss: 0.5919 - val_accuracy: 0.6905\n",
      "Epoch 12/25\n",
      "250/250 [==============================] - 123s 494ms/step - loss: 0.5374 - accuracy: 0.7250 - val_loss: 0.5949 - val_accuracy: 0.6830\n",
      "Epoch 13/25\n",
      "250/250 [==============================] - 124s 495ms/step - loss: 0.5329 - accuracy: 0.7297 - val_loss: 0.6107 - val_accuracy: 0.6925\n",
      "Epoch 14/25\n",
      "250/250 [==============================] - 122s 488ms/step - loss: 0.5237 - accuracy: 0.7320 - val_loss: 0.5828 - val_accuracy: 0.7035\n",
      "Epoch 15/25\n",
      "250/250 [==============================] - 123s 492ms/step - loss: 0.5163 - accuracy: 0.7466 - val_loss: 0.6117 - val_accuracy: 0.6870\n",
      "Epoch 16/25\n",
      "250/250 [==============================] - 125s 500ms/step - loss: 0.5072 - accuracy: 0.7541 - val_loss: 0.6244 - val_accuracy: 0.6775\n",
      "Epoch 17/25\n",
      "250/250 [==============================] - 134s 537ms/step - loss: 0.5012 - accuracy: 0.7544 - val_loss: 0.6199 - val_accuracy: 0.6765\n",
      "Epoch 18/25\n",
      "250/250 [==============================] - 124s 495ms/step - loss: 0.4921 - accuracy: 0.7636 - val_loss: 0.5993 - val_accuracy: 0.6995\n",
      "Epoch 19/25\n",
      "250/250 [==============================] - 125s 502ms/step - loss: 0.4826 - accuracy: 0.7695 - val_loss: 0.6308 - val_accuracy: 0.6640\n",
      "Epoch 20/25\n",
      "250/250 [==============================] - 139s 556ms/step - loss: 0.4717 - accuracy: 0.7755 - val_loss: 0.6043 - val_accuracy: 0.6930\n",
      "Epoch 21/25\n",
      "250/250 [==============================] - 158s 632ms/step - loss: 0.4629 - accuracy: 0.7793 - val_loss: 0.6543 - val_accuracy: 0.6895\n",
      "Epoch 22/25\n",
      "250/250 [==============================] - 158s 633ms/step - loss: 0.4569 - accuracy: 0.7818 - val_loss: 0.6143 - val_accuracy: 0.6915\n",
      "Epoch 23/25\n",
      "250/250 [==============================] - 149s 595ms/step - loss: 0.4406 - accuracy: 0.7960 - val_loss: 0.6048 - val_accuracy: 0.7025\n",
      "Epoch 24/25\n",
      "250/250 [==============================] - 127s 507ms/step - loss: 0.4332 - accuracy: 0.7975 - val_loss: 0.6202 - val_accuracy: 0.6870\n",
      "Epoch 25/25\n",
      "250/250 [==============================] - 153s 613ms/step - loss: 0.4312 - accuracy: 0.8012 - val_loss: 0.6266 - val_accuracy: 0.6935\n"
     ]
    },
    {
     "data": {
      "text/plain": [
       "<keras.callbacks.History at 0x23cfb768e50>"
      ]
     },
     "execution_count": 15,
     "metadata": {},
     "output_type": "execute_result"
    }
   ],
   "source": [
    "#Training, fit method is for training\n",
    "cnn.fit(x = training_set, validation_data = test_set, epochs = 25)"
   ]
  },
  {
   "cell_type": "code",
   "execution_count": 20,
   "metadata": {},
   "outputs": [],
   "source": [
    "test_image = image.load_img(\"dataset/single_prediction/cat_or_dog_2.jpg\", target_size = (150,150))\n",
    "#predict method expects 2D array\n",
    "test_image = image.img_to_array(test_image)\n",
    "test_image = np.expand_dims(test_image, axis = 0)\n",
    "result = cnn.predict(test_image/255.0)\n",
    "training_set.class_indices\n",
    "if result[0][0] > 0.5:\n",
    "    prediction = 'dog'\n",
    "else:\n",
    "    prediction = 'cat'"
   ]
  },
  {
   "cell_type": "code",
   "execution_count": 21,
   "metadata": {},
   "outputs": [
    {
     "name": "stdout",
     "output_type": "stream",
     "text": [
      "cat\n"
     ]
    }
   ],
   "source": [
    "print(prediction)"
   ]
  },
  {
   "cell_type": "code",
   "execution_count": null,
   "metadata": {},
   "outputs": [],
   "source": []
  },
  {
   "cell_type": "code",
   "execution_count": null,
   "metadata": {},
   "outputs": [],
   "source": []
  }
 ],
 "metadata": {
  "kernelspec": {
   "display_name": "Python 3",
   "language": "python",
   "name": "python3"
  },
  "language_info": {
   "codemirror_mode": {
    "name": "ipython",
    "version": 3
   },
   "file_extension": ".py",
   "mimetype": "text/x-python",
   "name": "python",
   "nbconvert_exporter": "python",
   "pygments_lexer": "ipython3",
   "version": "3.8.5"
  }
 },
 "nbformat": 4,
 "nbformat_minor": 4
}
